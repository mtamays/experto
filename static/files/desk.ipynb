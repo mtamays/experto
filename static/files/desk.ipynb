{
 "cells": [
  {
   "cell_type": "code",
   "execution_count": 1,
   "metadata": {},
   "outputs": [],
   "source": [
    "from experta import *"
   ]
  },
  {
   "cell_type": "code",
   "execution_count": 30,
   "metadata": {},
   "outputs": [],
   "source": [
    "#CLASES\n",
    "class user(Fact):\n",
    "    pass\n",
    "class Usuariounlock(Fact):\n",
    "    pass\n",
    "class Soporteaplicacion(Fact):\n",
    "    pass\n",
    "class Checkorder(Fact):\n",
    "    pass"
   ]
  },
  {
   "cell_type": "code",
   "execution_count": 43,
   "metadata": {},
   "outputs": [],
   "source": [
    "class usuario(KnowledgeEngine):\n",
    "    \n",
    "    @Rule(AND(user(unlockus=MATCH.unlockus & L(0))))\n",
    "    def usuario1(self,unlockus):\n",
    "        print(\"no se registro usuario \\n Fin del programa\")\n",
    "    \n",
    "    @Rule(AND(user(unlockus=MATCH.unlockus & L(1))))\n",
    "    def usuario2(self,unlockus):\n",
    "        print(\"el usuario registrado en el sistema ya fue desbloqueado\")\n",
    "        print('desea que le ayudemos brindandote soporte:')\n",
    "        print('0 --> NO')\n",
    "        print('1 --> SI')\n",
    "        self.declare(Usuariounlock(nivel=int(input())))\n",
    "        \n",
    "    @Rule(AND(user(unlockus=MATCH.unlockus & L(1)),Usuariounlock(nivel=MATCH.nivel & L(0))))\n",
    "    def usuario3(self,nivel):\n",
    "        print(\"usuario no requiere mas ayuda \\n el usuario quedo desbloqueado \\n Fin del programa\")\n",
    "    \n",
    "    @Rule(AND(user(unlockus=MATCH.unlockus & L(1)),Usuariounlock(nivel=MATCH.nivel & L(1))))\n",
    "    def usuario4(self,nivel):\n",
    "        print(\"usuario requiere ayuda de soporte\")\n",
    "        print('Seleccione que tipo de soporte requiere')\n",
    "        print('0 --> APLICACIONES DEL CLIENTE')\n",
    "        print('1 --> APLICACIONES INTERNAS')\n",
    "        self.declare(Soporteaplicacion(nivel=int(input())))\n",
    "    \n",
    "    @Rule(AND(user(unlockus=MATCH.unlockus & L(1)),Usuariounlock(nivel=MATCH.nivel & L(1)), Soporteaplicacion(nivel=MATCH.sop & L(0))))\n",
    "    def usuario5(self,nivel):\n",
    "        print(\"soporte aplicaciones del cliente\")\n",
    "        print('la solicitud debe ser reportada por medio de el jefe directo al cliente \\n Fin del programa')\n",
    "     \n",
    "    \n",
    "    @Rule(AND(user(unlockus=MATCH.unlockus & L(1)),Usuariounlock(nivel=MATCH.nivel & L(1)), Soporteaplicacion(nivel=MATCH.sop & L(1))))\n",
    "    def usuario6(self,nivel):\n",
    "        print(\"soporte aplicaciones internas\")\n",
    "        print('la solicitud quedo generada en el sistema y se asigno a uno de nuestros analistas')\n",
    "        print('desea ver el estado de tu ticket:')\n",
    "        print('0 --> NO')\n",
    "        print('1 --> SI')\n",
    "        self.declare(Checkorder(nivel=int(input())))\n",
    "        \n",
    "    @Rule(AND(user(unlockus=MATCH.unlockus & L(1)),Usuariounlock(nivel=MATCH.nivel & L(1)), Soporteaplicacion(nivel=MATCH.sop & L(1)), Checkorder(nivel=MATCH.sop & L(1))))\n",
    "    def usuario8(self,nivel):\n",
    "        print(\"se revisa la solictud registrada a tu usuario y esta ya se encuentra en estado asignado\")\n",
    "        print(\"fue un gusto ayudarte \\n Fin del programa\")\n",
    "        \n",
    "    @Rule(AND(user(unlockus=MATCH.unlockus & L(1)),Usuariounlock(nivel=MATCH.nivel & L(1)), Soporteaplicacion(nivel=MATCH.sop & L(1)), Checkorder(nivel=MATCH.sop & L(0))))\n",
    "    def usuario7(self,nivel):\n",
    "        print(\"Fin del programa\")\n",
    "        \n",
    "    "
   ]
  },
  {
   "cell_type": "code",
   "execution_count": 44,
   "metadata": {},
   "outputs": [
    {
     "name": "stderr",
     "output_type": "stream",
     "text": [
      "INFO:experta.watchers.FACTS: ==> <f-0>: InitialFact()\n"
     ]
    }
   ],
   "source": [
    "watch('RULES', 'FACTS')\n",
    "A=usuario()\n",
    "A.reset()"
   ]
  },
  {
   "cell_type": "code",
   "execution_count": 45,
   "metadata": {},
   "outputs": [
    {
     "name": "stdout",
     "output_type": "stream",
     "text": [
      "quieres validar si tu usuario esta bloqueado?:\n",
      "0 --> NO\n",
      "1 --> SI\n",
      "1\n"
     ]
    },
    {
     "name": "stderr",
     "output_type": "stream",
     "text": [
      "INFO:experta.watchers.FACTS: ==> <f-1>: user(unlockus=1)\n"
     ]
    },
    {
     "data": {
      "text/plain": [
       "user(unlockus=1)"
      ]
     },
     "execution_count": 45,
     "metadata": {},
     "output_type": "execute_result"
    }
   ],
   "source": [
    "print('quieres validar si tu usuario esta bloqueado?:')\n",
    "print('0 --> NO')\n",
    "print('1 --> SI')\n",
    "A.declare(user(unlockus=int(input())))\n",
    "    "
   ]
  },
  {
   "cell_type": "code",
   "execution_count": 46,
   "metadata": {},
   "outputs": [
    {
     "name": "stderr",
     "output_type": "stream",
     "text": [
      "INFO:experta.watchers.RULES:FIRE 1 usuario2: <f-1>\n"
     ]
    },
    {
     "name": "stdout",
     "output_type": "stream",
     "text": [
      "el usuario registrado en el sistema ya fue desbloqueado\n",
      "desea que le ayudemos brindandote soporte:\n",
      "0 --> NO\n",
      "1 --> SI\n",
      "1\n"
     ]
    },
    {
     "name": "stderr",
     "output_type": "stream",
     "text": [
      "INFO:experta.watchers.FACTS: ==> <f-2>: Usuariounlock(nivel=1)\n",
      "INFO:experta.watchers.RULES:FIRE 2 usuario4: <f-1>, <f-2>\n"
     ]
    },
    {
     "name": "stdout",
     "output_type": "stream",
     "text": [
      "usuario requiere ayuda de soporte\n",
      "Seleccione que tipo de soporte requiere\n",
      "0 --> APLICACIONES DEL CLIENTE\n",
      "1 --> APLICACIONES INTERNAS\n",
      "1\n"
     ]
    },
    {
     "name": "stderr",
     "output_type": "stream",
     "text": [
      "INFO:experta.watchers.FACTS: ==> <f-3>: Soporteaplicacion(nivel=1)\n",
      "INFO:experta.watchers.RULES:FIRE 3 usuario6: <f-3>, <f-1>, <f-2>\n"
     ]
    },
    {
     "name": "stdout",
     "output_type": "stream",
     "text": [
      "soporte aplicaciones internas\n",
      "la solicitud quedo generada en el sistema y se asigno a uno de nuestros analistas\n",
      "desea ver el estado de tu ticket:\n",
      "0 --> NO\n",
      "1 --> SI\n",
      "1\n"
     ]
    },
    {
     "name": "stderr",
     "output_type": "stream",
     "text": [
      "INFO:experta.watchers.FACTS: ==> <f-4>: Checkorder(nivel=1)\n",
      "INFO:experta.watchers.RULES:FIRE 4 usuario8: <f-3>, <f-1>, <f-2>, <f-4>\n"
     ]
    },
    {
     "name": "stdout",
     "output_type": "stream",
     "text": [
      "se revisa la solictud registrada a tu usuario y esta ya se encuentra en estado asignado\n",
      "fue un gusto ayudarte \n",
      " Fin del programa\n"
     ]
    }
   ],
   "source": [
    "A.run()"
   ]
  }
 ],
 "metadata": {
  "kernelspec": {
   "display_name": "Python 3",
   "language": "python",
   "name": "python3"
  },
  "language_info": {
   "codemirror_mode": {
    "name": "ipython",
    "version": 3
   },
   "file_extension": ".py",
   "mimetype": "text/x-python",
   "name": "python",
   "nbconvert_exporter": "python",
   "pygments_lexer": "ipython3",
   "version": "3.7.3"
  }
 },
 "nbformat": 4,
 "nbformat_minor": 2
}
